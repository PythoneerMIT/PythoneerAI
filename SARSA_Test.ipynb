{
  "nbformat": 4,
  "nbformat_minor": 0,
  "metadata": {
    "colab": {
      "name": "SARSA_Test.ipynb",
      "provenance": []
    },
    "kernelspec": {
      "name": "python3",
      "display_name": "Python 3"
    },
    "language_info": {
      "name": "python"
    }
  },
  "cells": [
    {
      "cell_type": "code",
      "metadata": {
        "colab": {
          "base_uri": "https://localhost:8080/"
        },
        "id": "91u8XlndXAvh",
        "outputId": "5f70e195-a381-4792-af56-b121a549edd9"
      },
      "source": [
        "import sys\n",
        "IN_COLAB = 'google.colab' in sys.modules\n",
        "\n",
        "! git clone https://github.com/swarnabha13/ai-economist.git\n",
        "%cd ai-economist\n",
        "! pip install -e ."
      ],
      "execution_count": 41,
      "outputs": [
        {
          "output_type": "stream",
          "text": [
            "Cloning into 'ai-economist'...\n",
            "remote: Enumerating objects: 335, done.\u001b[K\n",
            "remote: Counting objects: 100% (74/74), done.\u001b[K\n",
            "remote: Compressing objects: 100% (66/66), done.\u001b[K\n",
            "remote: Total 335 (delta 30), reused 25 (delta 8), pack-reused 261\u001b[K\n",
            "Receiving objects: 100% (335/335), 1.16 MiB | 12.89 MiB/s, done.\n",
            "Resolving deltas: 100% (165/165), done.\n",
            "/content/ai-economist/ai-economist/ai-economist\n",
            "Obtaining file:///content/ai-economist/ai-economist/ai-economist\n",
            "Requirement already satisfied: appdirs==1.4.4 in /usr/local/lib/python3.7/dist-packages (from ai-economist==1.1.1) (1.4.4)\n",
            "Requirement already satisfied: appnope==0.1.0 in /usr/local/lib/python3.7/dist-packages (from ai-economist==1.1.1) (0.1.0)\n",
            "Requirement already satisfied: astroid==2.4.2 in /usr/local/lib/python3.7/dist-packages (from ai-economist==1.1.1) (2.4.2)\n",
            "Requirement already satisfied: attrs==19.3.0 in /usr/local/lib/python3.7/dist-packages (from ai-economist==1.1.1) (19.3.0)\n",
            "Requirement already satisfied: backcall==0.2.0 in /usr/local/lib/python3.7/dist-packages (from ai-economist==1.1.1) (0.2.0)\n",
            "Requirement already satisfied: black==19.10b0 in /usr/local/lib/python3.7/dist-packages (from ai-economist==1.1.1) (19.10b0)\n",
            "Requirement already satisfied: bleach==3.1.5 in /usr/local/lib/python3.7/dist-packages (from ai-economist==1.1.1) (3.1.5)\n",
            "Requirement already satisfied: certifi==2020.4.5.1 in /usr/local/lib/python3.7/dist-packages (from ai-economist==1.1.1) (2020.4.5.1)\n",
            "Requirement already satisfied: chardet==3.0.4 in /usr/local/lib/python3.7/dist-packages (from ai-economist==1.1.1) (3.0.4)\n",
            "Requirement already satisfied: click==7.1.2 in /usr/local/lib/python3.7/dist-packages (from ai-economist==1.1.1) (7.1.2)\n",
            "Requirement already satisfied: cycler==0.10.0 in /usr/local/lib/python3.7/dist-packages (from ai-economist==1.1.1) (0.10.0)\n",
            "Requirement already satisfied: decorator==4.4.2 in /usr/local/lib/python3.7/dist-packages (from ai-economist==1.1.1) (4.4.2)\n",
            "Requirement already satisfied: defusedxml==0.6.0 in /usr/local/lib/python3.7/dist-packages (from ai-economist==1.1.1) (0.6.0)\n",
            "Requirement already satisfied: docutils==0.16 in /usr/local/lib/python3.7/dist-packages (from ai-economist==1.1.1) (0.16)\n",
            "Requirement already satisfied: entrypoints==0.3 in /usr/local/lib/python3.7/dist-packages (from ai-economist==1.1.1) (0.3)\n",
            "Requirement already satisfied: flake8==3.8.3 in /usr/local/lib/python3.7/dist-packages (from ai-economist==1.1.1) (3.8.3)\n",
            "Requirement already satisfied: idna==2.9 in /usr/local/lib/python3.7/dist-packages (from ai-economist==1.1.1) (2.9)\n",
            "Requirement already satisfied: importlib-metadata==1.6.1 in /usr/local/lib/python3.7/dist-packages (from ai-economist==1.1.1) (1.6.1)\n",
            "Requirement already satisfied: ipykernel==5.3.0 in /usr/local/lib/python3.7/dist-packages (from ai-economist==1.1.1) (5.3.0)\n",
            "Requirement already satisfied: ipython==7.15.0 in /usr/local/lib/python3.7/dist-packages (from ai-economist==1.1.1) (7.15.0)\n",
            "Requirement already satisfied: ipython-genutils==0.2.0 in /usr/local/lib/python3.7/dist-packages (from ai-economist==1.1.1) (0.2.0)\n",
            "Requirement already satisfied: ipywidgets==7.5.1 in /usr/local/lib/python3.7/dist-packages (from ai-economist==1.1.1) (7.5.1)\n",
            "Requirement already satisfied: isort==4.3.21 in /usr/local/lib/python3.7/dist-packages (from ai-economist==1.1.1) (4.3.21)\n",
            "Requirement already satisfied: jedi==0.17.0 in /usr/local/lib/python3.7/dist-packages (from ai-economist==1.1.1) (0.17.0)\n",
            "Requirement already satisfied: Jinja2==2.11.2 in /usr/local/lib/python3.7/dist-packages (from ai-economist==1.1.1) (2.11.2)\n",
            "Requirement already satisfied: jsonschema==3.2.0 in /usr/local/lib/python3.7/dist-packages (from ai-economist==1.1.1) (3.2.0)\n",
            "Requirement already satisfied: jupyter==1.0.0 in /usr/local/lib/python3.7/dist-packages (from ai-economist==1.1.1) (1.0.0)\n",
            "Requirement already satisfied: jupyter-client==6.1.3 in /usr/local/lib/python3.7/dist-packages (from ai-economist==1.1.1) (6.1.3)\n",
            "Requirement already satisfied: jupyter-console==6.1.0 in /usr/local/lib/python3.7/dist-packages (from ai-economist==1.1.1) (6.1.0)\n",
            "Requirement already satisfied: jupyter-core==4.6.3 in /usr/local/lib/python3.7/dist-packages (from ai-economist==1.1.1) (4.6.3)\n",
            "Requirement already satisfied: keyring==21.2.1 in /usr/local/lib/python3.7/dist-packages (from ai-economist==1.1.1) (21.2.1)\n",
            "Requirement already satisfied: kiwisolver==1.2.0 in /usr/local/lib/python3.7/dist-packages (from ai-economist==1.1.1) (1.2.0)\n",
            "Requirement already satisfied: lazy-object-proxy==1.4.3 in /usr/local/lib/python3.7/dist-packages (from ai-economist==1.1.1) (1.4.3)\n",
            "Requirement already satisfied: lz4==3.1.0 in /usr/local/lib/python3.7/dist-packages (from ai-economist==1.1.1) (3.1.0)\n",
            "Requirement already satisfied: MarkupSafe==1.1.1 in /usr/local/lib/python3.7/dist-packages (from ai-economist==1.1.1) (1.1.1)\n",
            "Requirement already satisfied: matplotlib==3.2.1 in /usr/local/lib/python3.7/dist-packages (from ai-economist==1.1.1) (3.2.1)\n",
            "Requirement already satisfied: mccabe==0.6.1 in /usr/local/lib/python3.7/dist-packages (from ai-economist==1.1.1) (0.6.1)\n",
            "Requirement already satisfied: mistune==0.8.4 in /usr/local/lib/python3.7/dist-packages (from ai-economist==1.1.1) (0.8.4)\n",
            "Requirement already satisfied: more-itertools==8.3.0 in /usr/local/lib/python3.7/dist-packages (from ai-economist==1.1.1) (8.3.0)\n",
            "Requirement already satisfied: nbconvert==5.6.1 in /usr/local/lib/python3.7/dist-packages (from ai-economist==1.1.1) (5.6.1)\n",
            "Requirement already satisfied: nbformat==5.0.7 in /usr/local/lib/python3.7/dist-packages (from ai-economist==1.1.1) (5.0.7)\n",
            "Requirement already satisfied: notebook==6.0.3 in /usr/local/lib/python3.7/dist-packages (from ai-economist==1.1.1) (6.0.3)\n",
            "Requirement already satisfied: numpy==1.18.5 in /usr/local/lib/python3.7/dist-packages (from ai-economist==1.1.1) (1.18.5)\n",
            "Requirement already satisfied: packaging==20.4 in /usr/local/lib/python3.7/dist-packages (from ai-economist==1.1.1) (20.4)\n",
            "Requirement already satisfied: pandocfilters==1.4.2 in /usr/local/lib/python3.7/dist-packages (from ai-economist==1.1.1) (1.4.2)\n",
            "Requirement already satisfied: parso==0.7.0 in /usr/local/lib/python3.7/dist-packages (from ai-economist==1.1.1) (0.7.0)\n",
            "Requirement already satisfied: pathspec==0.8.0 in /usr/local/lib/python3.7/dist-packages (from ai-economist==1.1.1) (0.8.0)\n",
            "Requirement already satisfied: pexpect==4.8.0 in /usr/local/lib/python3.7/dist-packages (from ai-economist==1.1.1) (4.8.0)\n",
            "Requirement already satisfied: pickleshare==0.7.5 in /usr/local/lib/python3.7/dist-packages (from ai-economist==1.1.1) (0.7.5)\n",
            "Requirement already satisfied: pkginfo==1.5.0.1 in /usr/local/lib/python3.7/dist-packages (from ai-economist==1.1.1) (1.5.0.1)\n",
            "Requirement already satisfied: pluggy==0.13.1 in /usr/local/lib/python3.7/dist-packages (from ai-economist==1.1.1) (0.13.1)\n",
            "Requirement already satisfied: prometheus-client==0.8.0 in /usr/local/lib/python3.7/dist-packages (from ai-economist==1.1.1) (0.8.0)\n",
            "Requirement already satisfied: prompt-toolkit==3.0.5 in /usr/local/lib/python3.7/dist-packages (from ai-economist==1.1.1) (3.0.5)\n",
            "Requirement already satisfied: ptyprocess==0.6.0 in /usr/local/lib/python3.7/dist-packages (from ai-economist==1.1.1) (0.6.0)\n",
            "Requirement already satisfied: py==1.8.1 in /usr/local/lib/python3.7/dist-packages (from ai-economist==1.1.1) (1.8.1)\n",
            "Requirement already satisfied: pycodestyle==2.6.0 in /usr/local/lib/python3.7/dist-packages (from ai-economist==1.1.1) (2.6.0)\n",
            "Requirement already satisfied: pyflakes==2.2.0 in /usr/local/lib/python3.7/dist-packages (from ai-economist==1.1.1) (2.2.0)\n",
            "Requirement already satisfied: Pygments==2.6.1 in /usr/local/lib/python3.7/dist-packages (from ai-economist==1.1.1) (2.6.1)\n",
            "Requirement already satisfied: pylint==2.5.3 in /usr/local/lib/python3.7/dist-packages (from ai-economist==1.1.1) (2.5.3)\n",
            "Requirement already satisfied: pyparsing==2.4.7 in /usr/local/lib/python3.7/dist-packages (from ai-economist==1.1.1) (2.4.7)\n",
            "Requirement already satisfied: pyrsistent==0.16.0 in /usr/local/lib/python3.7/dist-packages (from ai-economist==1.1.1) (0.16.0)\n",
            "Requirement already satisfied: pytest==5.4.3 in /usr/local/lib/python3.7/dist-packages (from ai-economist==1.1.1) (5.4.3)\n",
            "Requirement already satisfied: python-dateutil==2.8.1 in /usr/local/lib/python3.7/dist-packages (from ai-economist==1.1.1) (2.8.1)\n",
            "Requirement already satisfied: pyzmq==19.0.1 in /usr/local/lib/python3.7/dist-packages (from ai-economist==1.1.1) (19.0.1)\n",
            "Requirement already satisfied: qtconsole==4.7.4 in /usr/local/lib/python3.7/dist-packages (from ai-economist==1.1.1) (4.7.4)\n",
            "Requirement already satisfied: QtPy==1.9.0 in /usr/local/lib/python3.7/dist-packages (from ai-economist==1.1.1) (1.9.0)\n",
            "Requirement already satisfied: readme-renderer==26.0 in /usr/local/lib/python3.7/dist-packages (from ai-economist==1.1.1) (26.0)\n",
            "Requirement already satisfied: regex==2020.6.8 in /usr/local/lib/python3.7/dist-packages (from ai-economist==1.1.1) (2020.6.8)\n",
            "Requirement already satisfied: requests==2.23.0 in /usr/local/lib/python3.7/dist-packages (from ai-economist==1.1.1) (2.23.0)\n",
            "Requirement already satisfied: requests-toolbelt==0.9.1 in /usr/local/lib/python3.7/dist-packages (from ai-economist==1.1.1) (0.9.1)\n",
            "Requirement already satisfied: scipy==1.4.1 in /usr/local/lib/python3.7/dist-packages (from ai-economist==1.1.1) (1.4.1)\n",
            "Requirement already satisfied: Send2Trash==1.5.0 in /usr/local/lib/python3.7/dist-packages (from ai-economist==1.1.1) (1.5.0)\n",
            "Requirement already satisfied: six==1.15.0 in /usr/local/lib/python3.7/dist-packages (from ai-economist==1.1.1) (1.15.0)\n",
            "Requirement already satisfied: terminado==0.8.3 in /usr/local/lib/python3.7/dist-packages (from ai-economist==1.1.1) (0.8.3)\n",
            "Requirement already satisfied: testpath==0.4.4 in /usr/local/lib/python3.7/dist-packages (from ai-economist==1.1.1) (0.4.4)\n",
            "Requirement already satisfied: toml==0.10.1 in /usr/local/lib/python3.7/dist-packages (from ai-economist==1.1.1) (0.10.1)\n",
            "Requirement already satisfied: tornado==6.0.4 in /usr/local/lib/python3.7/dist-packages (from ai-economist==1.1.1) (6.0.4)\n",
            "Requirement already satisfied: tqdm==4.46.1 in /usr/local/lib/python3.7/dist-packages (from ai-economist==1.1.1) (4.46.1)\n",
            "Requirement already satisfied: traitlets==4.3.3 in /usr/local/lib/python3.7/dist-packages (from ai-economist==1.1.1) (4.3.3)\n",
            "Requirement already satisfied: twine==3.1.1 in /usr/local/lib/python3.7/dist-packages (from ai-economist==1.1.1) (3.1.1)\n",
            "Requirement already satisfied: typed-ast==1.4.1 in /usr/local/lib/python3.7/dist-packages (from ai-economist==1.1.1) (1.4.1)\n",
            "Requirement already satisfied: urllib3==1.25.9 in /usr/local/lib/python3.7/dist-packages (from ai-economist==1.1.1) (1.25.9)\n",
            "Requirement already satisfied: wcwidth==0.2.4 in /usr/local/lib/python3.7/dist-packages (from ai-economist==1.1.1) (0.2.4)\n",
            "Requirement already satisfied: webencodings==0.5.1 in /usr/local/lib/python3.7/dist-packages (from ai-economist==1.1.1) (0.5.1)\n",
            "Requirement already satisfied: widgetsnbextension==3.5.1 in /usr/local/lib/python3.7/dist-packages (from ai-economist==1.1.1) (3.5.1)\n",
            "Requirement already satisfied: wrapt==1.12.1 in /usr/local/lib/python3.7/dist-packages (from ai-economist==1.1.1) (1.12.1)\n",
            "Requirement already satisfied: zipp==3.1.0 in /usr/local/lib/python3.7/dist-packages (from ai-economist==1.1.1) (3.1.0)\n",
            "Requirement already satisfied: setuptools>=18.5 in /usr/local/lib/python3.7/dist-packages (from ipython==7.15.0->ai-economist==1.1.1) (56.0.0)\n",
            "Requirement already satisfied: SecretStorage>=3; sys_platform == \"linux\" in /usr/local/lib/python3.7/dist-packages (from keyring==21.2.1->ai-economist==1.1.1) (3.3.1)\n",
            "Requirement already satisfied: jeepney>=0.4.2; sys_platform == \"linux\" in /usr/local/lib/python3.7/dist-packages (from keyring==21.2.1->ai-economist==1.1.1) (0.6.0)\n",
            "Requirement already satisfied: cryptography>=2.0 in /usr/local/lib/python3.7/dist-packages (from SecretStorage>=3; sys_platform == \"linux\"->keyring==21.2.1->ai-economist==1.1.1) (3.4.7)\n",
            "Requirement already satisfied: cffi>=1.12 in /usr/local/lib/python3.7/dist-packages (from cryptography>=2.0->SecretStorage>=3; sys_platform == \"linux\"->keyring==21.2.1->ai-economist==1.1.1) (1.14.5)\n",
            "Requirement already satisfied: pycparser in /usr/local/lib/python3.7/dist-packages (from cffi>=1.12->cryptography>=2.0->SecretStorage>=3; sys_platform == \"linux\"->keyring==21.2.1->ai-economist==1.1.1) (2.20)\n",
            "Installing collected packages: ai-economist\n",
            "  Found existing installation: ai-economist 1.1.1\n",
            "    Can't uninstall 'ai-economist'. No files were found to uninstall.\n",
            "  Running setup.py develop for ai-economist\n",
            "Successfully installed ai-economist\n"
          ],
          "name": "stdout"
        }
      ]
    },
    {
      "cell_type": "code",
      "metadata": {
        "id": "Ioapb0_ZXB-l"
      },
      "source": [
        "from ai_economist import foundation\n",
        "from ai_economist.foundation.base.base_env import BaseEnvironment, scenario_registry\n",
        "test_env_cls = scenario_registry.get(\"layout_from_file/simple_wood_and_stone\")"
      ],
      "execution_count": 42,
      "outputs": []
    },
    {
      "cell_type": "code",
      "metadata": {
        "id": "apoo8jVnXKDW"
      },
      "source": [
        "import numpy as np\n",
        "%matplotlib inline\n",
        "import matplotlib.pyplot as plt\n",
        "from IPython import display\n",
        "if IN_COLAB:\n",
        "    from tutorials.utils import plotting  # plotting utilities for visualizing env state\n",
        "else:\n",
        "    from utils import plotting"
      ],
      "execution_count": 43,
      "outputs": []
    },
    {
      "cell_type": "code",
      "metadata": {
        "id": "-GR_wZtVXMJE"
      },
      "source": [
        "from ai_economist.foundation.entities.resources import Resource, resource_registry\n",
        "\n",
        "@resource_registry.add\n",
        "class Widget(Resource):\n",
        "    name = \"Widget\"\n",
        "    color = [1, 1, 1]\n",
        "    collectible = False # <--- Goes in agent inventory, but not in the world"
      ],
      "execution_count": 44,
      "outputs": []
    },
    {
      "cell_type": "code",
      "metadata": {
        "id": "7JKYQs_tXWLz"
      },
      "source": [
        "import matplotlib.pyplot as plt\n",
        "from ai_economist.foundation.base.base_component import BaseComponent, component_registry\n",
        "import random\n",
        "\n",
        "@component_registry.add\n",
        "class BuyWidgetFromVirtualStore(BaseComponent):\n",
        "    name = \"BuyWidgetFromVirtualStore\"\n",
        "    required_entities = [\"Coin\", \"Widget\"]  # <--- We can now look up \"Widget\" in the resource registry\n",
        "    agent_subclasses = [\"BasicMobileAgent\"]\n",
        "\n",
        "    def __init__(\n",
        "        self,\n",
        "        *base_component_args,\n",
        "        widget_refresh_rate=0.1,\n",
        "        **base_component_kwargs\n",
        "    ):\n",
        "        super().__init__(*base_component_args, **base_component_kwargs)\n",
        "        self.widget_refresh_rate = widget_refresh_rate\n",
        "        self.available_widget_units = 0\n",
        "        self.widget_price = 5\n",
        "\n",
        "    def get_additional_state_fields(self, agent_cls_name):\n",
        "        return {}\n",
        "\n",
        "    def additional_reset_steps(self):\n",
        "        self.available_wood_units = 0\n",
        "\n",
        "    def get_n_actions(self, agent_cls_name):\n",
        "        if agent_cls_name == \"BasicMobileAgent\":\n",
        "            return 1\n",
        "        return None\n",
        "\n",
        "    def generate_masks(self, completions=0):\n",
        "        masks = {}\n",
        "        for agent in self.world.agents:\n",
        "            masks[agent.idx] = np.array([\n",
        "                agent.state[\"inventory\"][\"Coin\"] >= self.widget_price and self.available_widget_units > 0\n",
        "            ])\n",
        "\n",
        "        return masks\n",
        "\n",
        "    def component_step(self):\n",
        "        if random.random() < self.widget_refresh_rate: \n",
        "            self.available_widget_units += 1\n",
        "\n",
        "        for agent in self.world.get_random_order_agents():\n",
        "\n",
        "            action = agent.get_component_action(self.name)\n",
        "\n",
        "            if action == 0: # NO-OP. Agent is not interacting with this component.\n",
        "                continue\n",
        "\n",
        "            if action == 1: # Agent wants to buy. Execute a purchase if possible.\n",
        "                if self.available_widget_units > 0 and agent.state[\"inventory\"][\"Coin\"] >= self.widget_price: \n",
        "                    agent.state[\"inventory\"][\"Coin\"] -= self.widget_price\n",
        "                    agent.state[\"inventory\"][\"Widget\"] += 1\n",
        "                    self.available_widget_units -= 1\n",
        "\n",
        "            else: # We only declared 1 action for this agent type, so action > 1 is an error.\n",
        "                raise ValueError\n",
        "\n",
        "    def generate_observations(self):\n",
        "        obs_dict = dict()\n",
        "        for agent in self.world.agents:\n",
        "            obs_dict[agent.idx] = {\n",
        "                \"widget_refresh_rate\": self.widget_refresh_rate,\n",
        "                \"available_widget_units\": self.available_widget_units,\n",
        "                \"widget_price\": self.widget_price\n",
        "            }\n",
        "\n",
        "        return obs_dict"
      ],
      "execution_count": 45,
      "outputs": []
    },
    {
      "cell_type": "code",
      "metadata": {
        "id": "bPQ_IrAsXXPM"
      },
      "source": [
        "# Define the configuration of the environment that will be built\n",
        "\n",
        "env_config = {\n",
        "    # ===== STANDARD ARGUMENTS ======\n",
        "    'n_agents': 4,          # Number of non-planner agents\n",
        "    'world_size': [25, 25], # [Height, Width] of the env world\n",
        "    'episode_length': 1000, # Number of timesteps per episode\n",
        "    \n",
        "    # In multi-action-mode, the policy selects an action for each action subspace (defined in component code)\n",
        "    # Otherwise, the policy selects only 1 action\n",
        "    'multi_action_mode_agents': False,\n",
        "    'multi_action_mode_planner': True,\n",
        "    \n",
        "    # When flattening observations, concatenate scalar & vector observations before output\n",
        "    # Otherwise, return observations with minimal processing\n",
        "    'flatten_observations': False,\n",
        "    # When Flattening masks, concatenate each action subspace mask into a single array\n",
        "    # Note: flatten_masks = True is recommended for masking action logits\n",
        "    'flatten_masks': True,\n",
        "    \n",
        "    \n",
        "    # ===== COMPONENTS =====\n",
        "    # Which components to use (specified as list of {\"component_name\": {component_kwargs}} dictionaries)\n",
        "    #   \"component_name\" refers to the component class's name in the Component Registry\n",
        "    #   {component_kwargs} is a dictionary of kwargs passed to the component class\n",
        "    # The order in which components reset, step, and generate obs follows their listed order below\n",
        "    'components': [\n",
        "        # (1) Building houses\n",
        "        ('Build', dict(skill_dist=\"beta\", payment_max_skill_multiplier=3)),\n",
        "        # (2) Trading collectible resources\n",
        "        ('ContinuousDoubleAuction', dict(max_num_orders=5)),\n",
        "        # (3) Movement and resource collection\n",
        "        ('Gather', dict()),\n",
        "    ],\n",
        "    \n",
        "    # ===== SCENARIO =====\n",
        "    # Which scenario class to use (specified by the class's name in the Scenario Registry)\n",
        "    'scenario_name': 'uniform/simple_wood_and_stone',\n",
        "    #'env_layout_file': 'quadrant_25x25_20each_30clump.txt',\n",
        "    \n",
        "    # (optional) kwargs of the chosen scenario class\n",
        "    'starting_agent_coin': 10,\n",
        "    'starting_stone_coverage': 0.10,\n",
        "    'starting_wood_coverage':  0.10,\n",
        "}"
      ],
      "execution_count": 46,
      "outputs": []
    },
    {
      "cell_type": "code",
      "metadata": {
        "id": "UD-TitO1YieS"
      },
      "source": [
        "from copy import deepcopy\n",
        "new_env_config = deepcopy(env_config)\n",
        "\n",
        "# Compared to env_config, new_env_config simply adds our new Component\n",
        "new_env_config['components'] = [\n",
        "    # (1) Building houses\n",
        "    ('Build', dict(skill_dist=\"beta\", payment_max_skill_multiplier=3)),\n",
        "    # (2) Trading collectible resources\n",
        "    ('ContinuousDoubleAuction', dict(max_num_orders=5)),\n",
        "    # (3) Movement and resource collection\n",
        "    ('Gather', dict(skill_dist=\"pareto\")),\n",
        "    # (4) Let each mobile agent buy widgets from a virtual store.\n",
        "    {'BuyWidgetFromVirtualStore': {'widget_refresh_rate': 0.1}},  # <--- This.\n",
        "]"
      ],
      "execution_count": 47,
      "outputs": []
    },
    {
      "cell_type": "code",
      "metadata": {
        "id": "Hr6zk79fYkX7"
      },
      "source": [
        "new_env = foundation.make_env_instance(**env_config)\n",
        "obs = new_env.reset()"
      ],
      "execution_count": null,
      "outputs": []
    },
    {
      "cell_type": "markdown",
      "metadata": {
        "id": "KgvQtT90bTqZ"
      },
      "source": [
        "# Policy function"
      ]
    },
    {
      "cell_type": "code",
      "metadata": {
        "id": "WxrPRi9gbUtB"
      },
      "source": [
        "from collections import defaultdict"
      ],
      "execution_count": null,
      "outputs": []
    },
    {
      "cell_type": "code",
      "metadata": {
        "id": "RXkYHPitbXl3"
      },
      "source": [
        "def make_epsilon_greedy_policy(Q, epsilon, env):\n",
        "    def policy_fn(obs):\n",
        "        agent_wise_action_prob = {}\n",
        "        for a_idx, a_obs in obs.items():\n",
        "            agent = env.get_agent(a_idx)\n",
        "            nA = agent.action_spaces\n",
        "            action_prob = np.ones(nA, dtype=float) * epsilon / nA\n",
        "            mask = a_obs['action_mask']\n",
        "            best_action = np.random.choice(Q[a_idx], p=mask/mask.sum())\n",
        "            best_action_index = Q[a_idx][a_obs].index(best_action)\n",
        "            best_action_index = np.argmax(Q[a_idx][a_obs])\n",
        "            action_prob[best_action_index] = action_prob[best_action_index] + (1.0 - epsilon)\n",
        "            agent_wise_action_prob[a_idx] = action_prob\n",
        "        return agent_wise_action_prob\n",
        "\n",
        "    return policy_fn"
      ],
      "execution_count": null,
      "outputs": []
    },
    {
      "cell_type": "code",
      "metadata": {
        "id": "tzikshmCgDum"
      },
      "source": [
        "def select_agent_wise_next_best_action(env, agent_wise_action_probs):\n",
        "    actions = {}\n",
        "    for a_idx in agent_wise_action_probs:\n",
        "        actions = {a_idx: np.random.choice(np.arange(len(next_action_values)), p=next_action_values)}\n",
        "    return actions"
      ],
      "execution_count": null,
      "outputs": []
    },
    {
      "cell_type": "code",
      "metadata": {
        "id": "kILBkf6DYqDu"
      },
      "source": [
        "def do_plot(env, ax, fig):\n",
        "    \"\"\"Plots world state during episode sampling.\"\"\"\n",
        "    plotting.plot_env_state(env, ax)\n",
        "    ax.set_aspect('equal')\n",
        "    display.display(fig)\n",
        "    display.clear_output(wait=True)     "
      ],
      "execution_count": null,
      "outputs": []
    },
    {
      "cell_type": "code",
      "metadata": {
        "id": "X-h8xPZAfYiJ"
      },
      "source": [
        "def play_sarsa(env, plot_every=100, do_dense_logging=False, epsilon=0.1):\n",
        "    obs = env.reset(force_dense_logging=do_dense_logging)\n",
        "    Q = {\n",
        "        a_idx: defaultdict(lambda: np.zeros(env.get_agent(a_idx).action_spaces))\n",
        "        for a_idx, a_obs in obs.items()\n",
        "    }\n",
        "    sarsa_policy = make_epsilon_greedy_policy(Q, epsilon, env)\n",
        "    agent_wise_action_probs = sarsa_policy(obs)   #the policy function : Here obs contains state for every agent\n",
        "    agent_wise_best_actions = select_agent_wise_next_best_action(env, agent_wise_action_probs) #choose best action for very agent\n",
        "\n",
        "    for t in range(env.episode_length):\n",
        "        next_obs, reward, done, _ = env.step(agent_wise_best_actions)\n",
        "        agent_wise_next_action_probs = sarsa_policy(env, next_obs)\n",
        "        agent_wise_next_actions = select_agent_wise_next_best_action(env, agent_wise_next_action_probs) \n",
        "\n",
        "        td_target = reward + discount_factor * Q[next_state][next_action]\n",
        "        td_delta = td_target - Q[state][action]\n",
        "        Q[state][action] += alpha * td_delta\n",
        "\n",
        "        if done:\n",
        "            break\n",
        "\n",
        "        agent_wise_best_actions = agent_wise_next_actions\n",
        "        obs = next_obs\n",
        "\n",
        "        if ((t+1) % plot_every) == 0:\n",
        "            do_plot(env, ax, fig)\n",
        "\n",
        "    if ((t+1) % plot_every) != 0:\n",
        "        do_plot(env, ax, fig)  "
      ],
      "execution_count": null,
      "outputs": []
    },
    {
      "cell_type": "code",
      "metadata": {
        "id": "5jgUo5aNYtUk"
      },
      "source": [
        "play_sarsa(new_env, plot_every=100)"
      ],
      "execution_count": null,
      "outputs": []
    }
  ]
}